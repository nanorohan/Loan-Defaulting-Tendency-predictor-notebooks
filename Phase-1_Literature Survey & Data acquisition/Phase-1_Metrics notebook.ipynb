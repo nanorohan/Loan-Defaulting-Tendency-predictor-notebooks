{
  "nbformat": 4,
  "nbformat_minor": 0,
  "metadata": {
    "colab": {
      "name": "Metrics from Scratch.ipynb",
      "provenance": [],
      "collapsed_sections": []
    },
    "kernelspec": {
      "name": "python3",
      "display_name": "Python 3"
    },
    "language_info": {
      "name": "python"
    }
  },
  "cells": [
    {
      "cell_type": "markdown",
      "metadata": {
        "id": "O7hjgTUit-qO"
      },
      "source": [
        "**INTRODUCTION**\n",
        "\n",
        "This notebook is to be read in conjunction with the phase-1 report about the Home Credit loan defaulter predicition problem hosted on Kaggle.\n",
        "\n",
        "A brief summary about each model evaluation metric discussed in the report, its implementation from scratch as well as comparison with output of standard libraries follows."
      ]
    },
    {
      "cell_type": "markdown",
      "metadata": {
        "id": "RTQ1Zi20vbfP"
      },
      "source": [
        "Importing the libraries"
      ]
    },
    {
      "cell_type": "code",
      "metadata": {
        "id": "TUiA4JhDdium"
      },
      "source": [
        "import numpy as np\n",
        "import random\n",
        "import matplotlib.pyplot as plt\n",
        "from sklearn.metrics import accuracy_score, precision_score, recall_score, confusion_matrix, f1_score, roc_auc_score, precision_recall_curve #Used for checking the correctness of implementation"
      ],
      "execution_count": 65,
      "outputs": []
    },
    {
      "cell_type": "markdown",
      "metadata": {
        "id": "UWobQHvNxHGH"
      },
      "source": [
        "\n",
        "**Creating the sample dataset for testing out the metric implementations**\n",
        "\n",
        "A sample binary [0 or 1] dataset with 1000 points for demonstrating the metrics shall be created. The sample shall be created from the Uniform Random Number Generator that generates numbers between 0 and 1. With a treshold value of 0.5, the points with value below treshold shall be labelled 0 and the ones above shall be labelled 1.\n",
        "\n",
        "This shall be the ground truth data."
      ]
    },
    {
      "cell_type": "code",
      "metadata": {
        "id": "92Fy9F5ceEOX"
      },
      "source": [
        "random.seed(17)#setting seed for replicating and checking outcomes\n",
        "gnd_truth=[round(random.random()) for i in range(1000)]#The 'actual' data points or the ground truth"
      ],
      "execution_count": 2,
      "outputs": []
    },
    {
      "cell_type": "markdown",
      "metadata": {
        "id": "EYevNYp3Q2IF"
      },
      "source": [
        "In order to simulate the predicitons of the model, another dataset shall created. Here, I have retained 75% similarity between the ground truth data and the model prediction data, meaning that minimum accuracy shall be 75%. The balance 25% shall be based on the RNG randomization.\n",
        "\n",
        "I have done this to simulate a fairly proper basic first-cut model's expected output and visualize the metrics better."
      ]
    },
    {
      "cell_type": "code",
      "metadata": {
        "id": "JG3ahqv4nn0E"
      },
      "source": [
        "random.seed(17)#using same seed\n",
        "model_proba=[random.random() for i in range(750)]#this ensures that the 750 data points are same\n",
        "random.seed(21)\n",
        "model_proba_RNG=[random.random() for i in range(250)]#250 random points for variance, seeded\n",
        "model_proba.extend(model_proba_RNG)#simulating the probability prediction of a binary classifier model\n",
        "# this code snippet is for the final classification by simulated model prediction, the y^, so as to say.\n",
        "y_bar=np.zeros(1000)\n",
        "for i in range(1000):\n",
        "  if model_proba[i]>.5:\n",
        "    y_bar[i]=1\n",
        "  else:\n",
        "    y_bar[i]=0"
      ],
      "execution_count": 3,
      "outputs": []
    },
    {
      "cell_type": "markdown",
      "metadata": {
        "id": "NV7tRP3Tf8sb"
      },
      "source": [
        "Metric-1 Accuracy"
      ]
    },
    {
      "cell_type": "code",
      "metadata": {
        "colab": {
          "base_uri": "https://localhost:8080/"
        },
        "id": "g7p3tnuMUCRB",
        "outputId": "35f03505-8ad4-4c0b-8c26-1e198248b951"
      },
      "source": [
        "acc=0\n",
        "for i in range(1000):\n",
        "  if gnd_truth[i]==y_bar[i]:\n",
        "    acc+=1\n",
        "print(\"The accuracy score of the model is\",acc/1000,\"based on the built-from-scratch implementation and\",accuracy_score(gnd_truth,y_bar),\"based on the Scikit learn implementation.\\nWe can see that they are the same.\")"
      ],
      "execution_count": 55,
      "outputs": [
        {
          "output_type": "stream",
          "name": "stdout",
          "text": [
            "The accuracy score of the model is 0.876 based on the built-from-scratch implementation and 0.876 based on the Scikit learn implementation.\n",
            "We can see that they are the same.\n"
          ]
        }
      ]
    },
    {
      "cell_type": "markdown",
      "metadata": {
        "id": "XatYJKuwhXs5"
      },
      "source": [
        "Metric-2 Precision"
      ]
    },
    {
      "cell_type": "code",
      "metadata": {
        "colab": {
          "base_uri": "https://localhost:8080/"
        },
        "id": "DuC-HTV5rcW_",
        "outputId": "ed06fbd2-d68c-4d40-b2e6-29456415e98c"
      },
      "source": [
        "#Precision\n",
        "true_positives=0\n",
        "false_positives=0\n",
        "true_negatives=0\n",
        "false_negatives=0\n",
        "for i in range(1000):\n",
        "  if y_bar[i]==gnd_truth[i] and gnd_truth[i]==1:\n",
        "    true_positives+=1\n",
        "  elif y_bar[i]==gnd_truth[i] and gnd_truth[i]==0:\n",
        "    true_negatives+=1\n",
        "  elif y_bar[i]!=gnd_truth[i] and gnd_truth[i]==1:\n",
        "    false_negatives+=1\n",
        "  else:\n",
        "    false_positives+=1\n",
        "  \n",
        "true_positive_rate=true_positives/(true_positives+false_negatives)\n",
        "false_positive_rate=false_positives/(true_negatives+false_positives)\n",
        "true_negative_rate=true_negatives/(true_negatives+false_positives)\n",
        "false_negative_rate=false_negatives/(true_positives+false_negatives)\n",
        "\n",
        "confusion_matrix(gnd_truth, y_bar)\n",
        "\n",
        "precision=true_positives/(true_positives+false_positives)\n",
        "F1_score=2*precision*recall/(precision+recall)\n",
        "print(\"The Precision score of the model is\",precision,\"based on the built-from-scratch implementation and\",precision_score(gnd_truth,y_bar),\"based on the Scikit learn implementation.\\nWe can see that they are the same.\")"
      ],
      "execution_count": 56,
      "outputs": [
        {
          "output_type": "stream",
          "name": "stdout",
          "text": [
            "The Precision score of the model is 0.8683127572016461 based on the built-from-scratch implementation and 0.8683127572016461 based on the Scikit learn implementation.\n",
            "We can see that they are the same.\n"
          ]
        },
        {
          "output_type": "execute_result",
          "data": {
            "text/plain": [
              "0.871900826446281"
            ]
          },
          "metadata": {},
          "execution_count": 56
        }
      ]
    },
    {
      "cell_type": "markdown",
      "metadata": {
        "id": "aezyZ420VzPl"
      },
      "source": [
        "Metric-3 Recall"
      ]
    },
    {
      "cell_type": "code",
      "metadata": {
        "colab": {
          "base_uri": "https://localhost:8080/"
        },
        "id": "vpu2u_wJV8BJ",
        "outputId": "ea5e4876-9199-4b24-f8ca-05daa816ee47"
      },
      "source": [
        "recall=true_positive_rate\n",
        "print(\"The Recall score of the model is\",recall,\"based on the built-from-scratch implementation and\",recall_score(gnd_truth,y_bar),\"based on the Scikit learn implementation.\\nWe can see that they are the same.\")"
      ],
      "execution_count": 59,
      "outputs": [
        {
          "output_type": "stream",
          "name": "stdout",
          "text": [
            "The Recall score of the model is 0.8755186721991701 based on the built-from-scratch implementation and 0.8755186721991701 based on the Scikit learn implementation.\n",
            "We can see that they are the same.\n"
          ]
        }
      ]
    },
    {
      "cell_type": "markdown",
      "metadata": {
        "id": "NxQ0OVMBXI9l"
      },
      "source": [
        "Metric-4 F1 Score"
      ]
    },
    {
      "cell_type": "code",
      "metadata": {
        "colab": {
          "base_uri": "https://localhost:8080/"
        },
        "id": "2zTJz4O3XOWd",
        "outputId": "db537c6f-9823-475f-a1d5-135c5686edce"
      },
      "source": [
        "F1_score=2*precision*recall/(precision+recall)\n",
        "print(\"The F1 score of the model is\",F1_score,\"based on the built-from-scratch implementation and\",f1_score(gnd_truth, y_bar),\"based on the Scikit learn implementation.\\nWe can see that they are the same.\")"
      ],
      "execution_count": 61,
      "outputs": [
        {
          "output_type": "stream",
          "name": "stdout",
          "text": [
            "The F1 score of the model is 0.871900826446281 based on the built-from-scratch implementation and 0.871900826446281 based on the Scikit learn implementation.\n",
            "We can see that they are the same.\n"
          ]
        }
      ]
    },
    {
      "cell_type": "markdown",
      "metadata": {
        "id": "_XjCAOn_XwN9"
      },
      "source": [
        "Metric-5 ROC-AUC Score"
      ]
    },
    {
      "cell_type": "code",
      "metadata": {
        "id": "Nl7kgCcp8mLf"
      },
      "source": [
        "tpr_fpr_array=[[gnd_truth[i],y_bar[i],model_proba[i]] for i in range(1000)] \n",
        "#print(tpr_fpr_array)\n",
        "tpr_fpr_array_sorted=sorted(tpr_fpr_array,key=lambda x:x[2], reverse=True)\n",
        "TP_plt=0\n",
        "TN_plt=0\n",
        "FP_plt=0\n",
        "FN_plt=0\n",
        "TPR_y=[]\n",
        "FPR_x=[]\n",
        "precision_y=[]\n",
        "recall_x=[]\n",
        "#This nested for loop is for populating the arrays of TPR, FPR for plotting ROC curve and Precision, Recall for plotting PR curve\n",
        "for i in range(1000):\n",
        "  TP_plt=0\n",
        "  TN_plt=0\n",
        "  FP_plt=0\n",
        "  FN_plt=0\n",
        "  treshold=tpr_fpr_array_sorted[i][2]\n",
        "  for j in range(1000):\n",
        "    if tpr_fpr_array_sorted[j][2]>=treshold:\n",
        "      if tpr_fpr_array_sorted[j][0]==1:\n",
        "        TP_plt+=1\n",
        "      else:\n",
        "        FP_plt+=1\n",
        "    else:\n",
        "      if tpr_fpr_array_sorted[j][0]==1:\n",
        "        FN_plt+=1\n",
        "      else:\n",
        "        TN_plt+=1\n",
        "  TPR_y.append(TP_plt/(TP_plt+FN_plt))\n",
        "  FPR_x.append(FP_plt/(FP_plt+TN_plt))\n",
        "  precision_y.append(TP_plt/(TP_plt+FP_plt))\n",
        "  recall_x.append(TP_plt/(TP_plt+FN_plt))"
      ],
      "execution_count": 71,
      "outputs": []
    },
    {
      "cell_type": "code",
      "metadata": {
        "colab": {
          "base_uri": "https://localhost:8080/",
          "height": 475
        },
        "id": "uIuhZm0YpMwM",
        "outputId": "06cdd8b6-14eb-4e5d-aac6-ec50b5128490"
      },
      "source": [
        "plt.rcParams['figure.figsize']=(24,6)\n",
        "plt.plot(FPR_x, TPR_y)\n",
        "plt.title('ROC curve plot')\n",
        "plt.ylabel('TPR')\n",
        "plt.xlabel('FPR')\n",
        "plt.grid()\n",
        "print(\"The ROC Curve is as plotted - \")\n",
        "plt.show()\n",
        "roc_auc=np.trapz(TPR_y, FPR_x)\n",
        "print(\"\\nBased on the above plot, the ROC-AUC score of the model is\",roc_auc,\"based on the built-from-scratch implementation and\",roc_auc_score(gnd_truth, model_proba),\"based on the Scikit learn implementation.\\nWe can see that they are the same.\")"
      ],
      "execution_count": 70,
      "outputs": [
        {
          "output_type": "stream",
          "name": "stdout",
          "text": [
            "The ROC Curve is as plotted - \n"
          ]
        },
        {
          "output_type": "display_data",
          "data": {
            "image/png": "[encoded data removed]",
            "text/plain": [
              "<Figure size 1728x432 with 1 Axes>"
            ]
          },
          "metadata": {
            "needs_background": "light"
          }
        },
        {
          "output_type": "stream",
          "name": "stdout",
          "text": [
            "\n",
            "Based on the above plot, the ROC-AUC score of the model is 0.8710208430125442 based on the built-from-scratch implementation and 0.8710208430125441 based on the Scikit learn implementation.\n",
            "We can see that they are the same.\n"
          ]
        }
      ]
    },
    {
      "cell_type": "markdown",
      "metadata": {
        "id": "hLnAcwU3bMBK"
      },
      "source": [
        "Bonus Metric - PR Curve"
      ]
    },
    {
      "cell_type": "code",
      "metadata": {
        "id": "rpsIvXgPr9MZ"
      },
      "source": [
        "precision_y_sklearn, recall_x_sklearn, tresholds_AUC=precision_recall_curve(gnd_truth,model_proba)"
      ],
      "execution_count": 76,
      "outputs": []
    },
    {
      "cell_type": "code",
      "metadata": {
        "colab": {
          "base_uri": "https://localhost:8080/",
          "height": 673
        },
        "id": "MwzBaK3O8wHt",
        "outputId": "d86621b3-b473-4295-dafa-b49ec69c1fc5"
      },
      "source": [
        "plt.rcParams['figure.figsize']=(36,12)\n",
        "plt.subplot(1, 2, 1)\n",
        "plt.title('PR curve plot built from scratch')\n",
        "plt.ylabel('Precision from scratch')\n",
        "plt.xlabel('Recall from scratch')\n",
        "plt.grid()\n",
        "plt.plot(recall_x, precision_y,'gs')\n",
        "plt.subplot(1, 2, 2)\n",
        "plt.plot(recall_x_sklearn, precision_y_sklearn,'ro')\n",
        "plt.title('PR curve plot from sklearn implementation')\n",
        "plt.ylabel('Precision from sklearn library')\n",
        "plt.xlabel('Recall from sklearn library')\n",
        "plt.grid()\n",
        "plt.show()\n",
        "print(\"\\nBased on the above plots, we can see that they are quite similar.\")"
      ],
      "execution_count": 89,
      "outputs": [
        {
          "output_type": "display_data",
          "data": {
            "image/png": "[encoded data removed]",
            "text/plain": [
              "<Figure size 2592x864 with 2 Axes>"
            ]
          },
          "metadata": {
            "needs_background": "light"
          }
        },
        {
          "output_type": "stream",
          "name": "stdout",
          "text": [
            "\n",
            "Based on the above plots, we can see that they are quite similar.\n"
          ]
        }
      ]
    }
  ]
}